{
 "cells": [
  {
   "cell_type": "markdown",
   "id": "ef7ada64",
   "metadata": {},
   "source": [
    "# Model Building Instacart Capstone\n",
    "#### This Notebook takes the data exported in the EDA notebook and turns it in to a TF-IDF model \n",
    "#### It also uses cosine similarities to find the most similar users to a target user\n",
    "#### Finally it builds a loop to look at similar users and grab 5 recommended products for a target user based on their most similar users"
   ]
  },
  {
   "cell_type": "code",
   "execution_count": 1,
   "id": "85729823",
   "metadata": {},
   "outputs": [],
   "source": [
    "#Importing the Basics\n",
    "\n",
    "\n",
    "import pandas as pd\n",
    "import matplotlib.pyplot as plt\n",
    "import seaborn as sns\n",
    "import matplotlib.pyplot as plt"
   ]
  },
  {
   "cell_type": "code",
   "execution_count": 2,
   "id": "0a109f64",
   "metadata": {},
   "outputs": [
    {
     "name": "stdout",
     "output_type": "stream",
     "text": [
      "1.2.1\n"
     ]
    }
   ],
   "source": [
    "#Importing sklearn\n",
    "\n",
    "import sklearn\n",
    "print(sklearn.__version__)"
   ]
  },
  {
   "cell_type": "code",
   "execution_count": 3,
   "id": "9ee4dd74",
   "metadata": {},
   "outputs": [],
   "source": [
    "# Read in user data set\n",
    "grouped_users_path = 'grouped_users_multiplied_output.csv'\n",
    "grouped_users = pd.read_csv(grouped_users_path)"
   ]
  },
  {
   "cell_type": "code",
   "execution_count": 4,
   "id": "543d542e",
   "metadata": {},
   "outputs": [
    {
     "name": "stdout",
     "output_type": "stream",
     "text": [
      "row number = 206209\n",
      "column number = 2\n"
     ]
    }
   ],
   "source": [
    "#Let's see how many rows we are working with in our new data set\n",
    "aisles_rows = grouped_users.shape[0]\n",
    "aisles_columns = grouped_users.shape[1]\n",
    "\n",
    "print('row number = ' + str(aisles_rows))\n",
    "print('column number = ' + str(aisles_columns))\n",
    "\n",
    "#We are working with a really big data set. This may prove to be a challenge to fit the model with."
   ]
  },
  {
   "cell_type": "code",
   "execution_count": 5,
   "id": "29ade18e",
   "metadata": {},
   "outputs": [
    {
     "data": {
      "text/html": [
       "<div>\n",
       "<style scoped>\n",
       "    .dataframe tbody tr th:only-of-type {\n",
       "        vertical-align: middle;\n",
       "    }\n",
       "\n",
       "    .dataframe tbody tr th {\n",
       "        vertical-align: top;\n",
       "    }\n",
       "\n",
       "    .dataframe thead th {\n",
       "        text-align: right;\n",
       "    }\n",
       "</style>\n",
       "<table border=\"1\" class=\"dataframe\">\n",
       "  <thead>\n",
       "    <tr style=\"text-align: right;\">\n",
       "      <th></th>\n",
       "      <th>user_id</th>\n",
       "      <th>repeated_product_name</th>\n",
       "    </tr>\n",
       "  </thead>\n",
       "  <tbody>\n",
       "    <tr>\n",
       "      <th>0</th>\n",
       "      <td>1</td>\n",
       "      <td>Soda,Soda,Soda,Soda,Soda,Soda,Soda,Soda,Soda,S...</td>\n",
       "    </tr>\n",
       "    <tr>\n",
       "      <th>1</th>\n",
       "      <td>2</td>\n",
       "      <td>Chipotle Beef &amp; Pork Realstick,Chipotle Beef &amp;...</td>\n",
       "    </tr>\n",
       "    <tr>\n",
       "      <th>2</th>\n",
       "      <td>3</td>\n",
       "      <td>Vanilla Unsweetened Almond Milk,Vanilla Unswee...</td>\n",
       "    </tr>\n",
       "    <tr>\n",
       "      <th>3</th>\n",
       "      <td>4</td>\n",
       "      <td>Enchilada Black Bean Vegetable,Enchilada Black...</td>\n",
       "    </tr>\n",
       "    <tr>\n",
       "      <th>4</th>\n",
       "      <td>5</td>\n",
       "      <td>Red Raspberries,Red Raspberries,Red Raspberrie...</td>\n",
       "    </tr>\n",
       "  </tbody>\n",
       "</table>\n",
       "</div>"
      ],
      "text/plain": [
       "   user_id                              repeated_product_name\n",
       "0        1  Soda,Soda,Soda,Soda,Soda,Soda,Soda,Soda,Soda,S...\n",
       "1        2  Chipotle Beef & Pork Realstick,Chipotle Beef &...\n",
       "2        3  Vanilla Unsweetened Almond Milk,Vanilla Unswee...\n",
       "3        4  Enchilada Black Bean Vegetable,Enchilada Black...\n",
       "4        5  Red Raspberries,Red Raspberries,Red Raspberrie..."
      ]
     },
     "execution_count": 5,
     "metadata": {},
     "output_type": "execute_result"
    }
   ],
   "source": [
    "#checking what our data looks like to make sure it is good to use\n",
    "\n",
    "grouped_users.head()"
   ]
  },
  {
   "cell_type": "code",
   "execution_count": 6,
   "id": "42921265",
   "metadata": {},
   "outputs": [],
   "source": [
    "#beacuse there are so many rows, I am going to start with around 1/3 of the data\n",
    "#okay here's the deal, my computer ran out of memory when I tried to go to 1/3 of the data\n",
    "#so I am going to use a much smaller set of the data as a proof of concept\n",
    "#and if it works I would make the recommendation to run it again on a more powerful machiene \n",
    "#with all of the available data\n",
    "\n",
    "users_smaller_set = grouped_users.head(25000)"
   ]
  },
  {
   "cell_type": "code",
   "execution_count": 7,
   "id": "7bee59f0",
   "metadata": {},
   "outputs": [],
   "source": [
    "from sklearn.feature_extraction.text import TfidfVectorizer\n",
    "\n",
    "\n",
    "vectorizer = TfidfVectorizer()\n",
    "X = vectorizer.fit_transform(users_smaller_set['repeated_product_name'])"
   ]
  },
  {
   "cell_type": "code",
   "execution_count": 8,
   "id": "a8adf1e2",
   "metadata": {},
   "outputs": [],
   "source": [
    "from sklearn.metrics.pairwise import cosine_similarity"
   ]
  },
  {
   "cell_type": "code",
   "execution_count": 9,
   "id": "19abcd7c",
   "metadata": {},
   "outputs": [],
   "source": [
    "similarities = cosine_similarity(X)"
   ]
  },
  {
   "cell_type": "code",
   "execution_count": 10,
   "id": "5237de83",
   "metadata": {},
   "outputs": [
    {
     "name": "stdout",
     "output_type": "stream",
     "text": [
      "['Boneless Skinless Chicken Breasts', 'Total 2% Lowfat Greek Strained Yogurt with Peach', 'Total 2% Greek Strained Yogurt with Cherry 5.3 oz', 'Total 2% with Strawberry Lowfat Greek Strained Yogurt', 'Bag of Organic Bananas']\n"
     ]
    }
   ],
   "source": [
    "#select the user we want to make reccomendations for. In this case we'll use user 1\n",
    "\n",
    "user_id = 1 \n",
    "\n",
    "# find similar users using cosine similarities\n",
    "#here we're asking cosine similarity to find users that are similar to our target user 1 \n",
    "similar_users = similarities[user_id]\n",
    "\n",
    "#here we are defining that we want five reccomendations back\n",
    "n_recommendations = 5 \n",
    "\n",
    "#here we are sorting the similar users we get back in to the most similar\n",
    "#this will help us get recommendations from the top similar users\n",
    "top_similar_users = similar_users.argsort()[-n_recommendations-1:-1][::-1] \n",
    "\n",
    "#this is a place to store recommendations we get back\n",
    "recommended_products = set()  \n",
    "\n",
    "# this is a counter for recommendations\n",
    "num_recommendations = 0\n",
    "\n",
    "#here we are saying for users in our list of similar users to user 1\n",
    "for user_idx in top_similar_users:\n",
    "    #go look at the products they bought (order history) And split them apart on the commas\n",
    "    products = users_smaller_set.iloc[user_idx]['repeated_product_name'].split(',')\n",
    "    \n",
    "    \n",
    "\n",
    "    #Now loop through those products \n",
    "    for product in products:\n",
    "        \n",
    "        #first make sure the product is not empty\n",
    "        if product.strip():  \n",
    "            \n",
    "            #If we don't have the product in our reccomended list, add it to the list\n",
    "            if product not in recommended_products:\n",
    "                recommended_products.add(product)\n",
    "                #and add +1 to the count for number of reccomendations we are giving\n",
    "                num_recommendations += 1\n",
    "\n",
    "            # once we get to the desired number of reccomendations (in this case 5)\n",
    "            #break out of this nested loop\n",
    "            if num_recommendations >= n_recommendations:\n",
    "                break\n",
    "\n",
    "    # And break out of this loop too\n",
    "    if num_recommendations >= n_recommendations:\n",
    "        break\n",
    "\n",
    "#create a list of recommended products with what we found in our loop\n",
    "#based on the number of recommendations we requested\n",
    "recommended_products = list(recommended_products)[:n_recommendations]\n",
    "\n",
    "#And print those recommendations\n",
    "print(recommended_products)"
   ]
  }
 ],
 "metadata": {
  "kernelspec": {
   "display_name": "Python 3 (ipykernel)",
   "language": "python",
   "name": "python3"
  },
  "language_info": {
   "codemirror_mode": {
    "name": "ipython",
    "version": 3
   },
   "file_extension": ".py",
   "mimetype": "text/x-python",
   "name": "python",
   "nbconvert_exporter": "python",
   "pygments_lexer": "ipython3",
   "version": "3.10.9"
  }
 },
 "nbformat": 4,
 "nbformat_minor": 5
}
